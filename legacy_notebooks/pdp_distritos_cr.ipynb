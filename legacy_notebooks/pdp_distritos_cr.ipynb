{
 "cells": [
  {
   "cell_type": "markdown",
   "id": "047075c4",
   "metadata": {},
   "source": [
    "# Construcción del Grafo Poblacional de Costa Rica a nivel Distrital\n",
    "Este cuaderno carga datos geoespaciales y poblacionales para construir un grafo de distritos contiguos con sus respectivas poblaciones como peso nodal."
   ]
  },
  {
   "cell_type": "code",
   "execution_count": null,
   "id": "46700eec",
   "metadata": {},
   "outputs": [],
   "source": [
    "!pip install geopandas shapely networkx pandas matplotlib openpyxl scikit-learn"
   ]
  },
  {
   "cell_type": "code",
   "execution_count": null,
   "id": "9fb010ce-b572-4915-9072-2a822c66d83a",
   "metadata": {},
   "outputs": [],
   "source": [
    "# Librerías\n",
    "import geopandas as gpd\n",
    "import pandas as pd\n",
    "import numpy as np\n",
    "import networkx as nx\n",
    "import matplotlib.pyplot as plt\n",
    "from sklearn.preprocessing import StandardScaler\n",
    "from sklearn.preprocessing import normalize\n",
    "from sklearn.cluster import SpectralClustering\n",
    "from sklearn.cluster import DBSCAN\n",
    "from sklearn.cluster import KMeans"
   ]
  },
  {
   "cell_type": "code",
   "execution_count": 8,
   "id": "22b44a56",
   "metadata": {},
   "outputs": [
    {
     "name": "stdout",
     "output_type": "stream",
     "text": [
      "(492, 7)\n"
     ]
    }
   ],
   "source": [
    "# Cargar shapefile de distritos (UGED 2022)\n",
    "# Tomado de: https://inec.cr/mapas-cartografia/unidad-geoestadistica-distrital-2022\n",
    "\n",
    "shapefile_path = \"data/UGED_MGN_2022/UGED_MGN_2022.shp\"\n",
    "gdf_distritos = gpd.read_file(shapefile_path)\n",
    "gdf_distritos = gdf_distritos[gdf_distritos.geometry.notnull()].copy()\n",
    "gdf_distritos.set_crs(epsg=5367, inplace=True)  # CRS oficial de Costa Rica\n",
    "gdf_distritos[[\"NOMB_UGED\", \"COD_UGED\", \"AREA_KM2\"]].head(15)\n",
    "\n",
    "print(gdf_distritos.shape)"
   ]
  },
  {
   "cell_type": "code",
   "execution_count": null,
   "id": "e57ceae4-d6fe-4829-b87a-ab428ee60088",
   "metadata": {
    "scrolled": true
   },
   "outputs": [],
   "source": [
    "# gdf_distritos\n",
    "\n",
    "# Mostrar la tabla resultante\n",
    "with pd.option_context(\"display.max_rows\", None):\n",
    "    display(gdf_distritos)"
   ]
  },
  {
   "cell_type": "code",
   "execution_count": null,
   "id": "ec3522bc-b46b-4cdb-9fe7-104128c4e709",
   "metadata": {},
   "outputs": [],
   "source": [
    "# # Guardar el DataFrame como archivo Excel\n",
    "# df_distritos.to_excel(\"df_distritos.xlsx\")"
   ]
  },
  {
   "cell_type": "code",
   "execution_count": 6,
   "id": "bc61bfde-7547-4fa8-ba11-d15023a590af",
   "metadata": {
    "scrolled": true
   },
   "outputs": [
    {
     "data": {
      "text/html": [
       "<div>\n",
       "<style scoped>\n",
       "    .dataframe tbody tr th:only-of-type {\n",
       "        vertical-align: middle;\n",
       "    }\n",
       "\n",
       "    .dataframe tbody tr th {\n",
       "        vertical-align: top;\n",
       "    }\n",
       "\n",
       "    .dataframe thead th {\n",
       "        text-align: right;\n",
       "    }\n",
       "</style>\n",
       "<table border=\"1\" class=\"dataframe\">\n",
       "  <thead>\n",
       "    <tr style=\"text-align: right;\">\n",
       "      <th></th>\n",
       "      <th>Codigo</th>\n",
       "      <th>Distrito</th>\n",
       "      <th>Total</th>\n",
       "    </tr>\n",
       "  </thead>\n",
       "  <tbody>\n",
       "    <tr>\n",
       "      <th>0</th>\n",
       "      <td>10101</td>\n",
       "      <td>CARMEN</td>\n",
       "      <td>2946</td>\n",
       "    </tr>\n",
       "    <tr>\n",
       "      <th>1</th>\n",
       "      <td>10102</td>\n",
       "      <td>MERCED</td>\n",
       "      <td>15408</td>\n",
       "    </tr>\n",
       "    <tr>\n",
       "      <th>2</th>\n",
       "      <td>10103</td>\n",
       "      <td>HOSPITAL</td>\n",
       "      <td>24030</td>\n",
       "    </tr>\n",
       "    <tr>\n",
       "      <th>3</th>\n",
       "      <td>10104</td>\n",
       "      <td>CATEDRAL</td>\n",
       "      <td>15682</td>\n",
       "    </tr>\n",
       "    <tr>\n",
       "      <th>4</th>\n",
       "      <td>10105</td>\n",
       "      <td>ZAPOTE</td>\n",
       "      <td>21990</td>\n",
       "    </tr>\n",
       "    <tr>\n",
       "      <th>...</th>\n",
       "      <td>...</td>\n",
       "      <td>...</td>\n",
       "      <td>...</td>\n",
       "    </tr>\n",
       "    <tr>\n",
       "      <th>487</th>\n",
       "      <td>70601</td>\n",
       "      <td>GUACIMO</td>\n",
       "      <td>26152</td>\n",
       "    </tr>\n",
       "    <tr>\n",
       "      <th>488</th>\n",
       "      <td>70602</td>\n",
       "      <td>MERCEDES</td>\n",
       "      <td>2357</td>\n",
       "    </tr>\n",
       "    <tr>\n",
       "      <th>489</th>\n",
       "      <td>70603</td>\n",
       "      <td>POCORA</td>\n",
       "      <td>8494</td>\n",
       "    </tr>\n",
       "    <tr>\n",
       "      <th>490</th>\n",
       "      <td>70604</td>\n",
       "      <td>RIO JIMENEZ</td>\n",
       "      <td>11836</td>\n",
       "    </tr>\n",
       "    <tr>\n",
       "      <th>491</th>\n",
       "      <td>70605</td>\n",
       "      <td>DUACARI</td>\n",
       "      <td>8182</td>\n",
       "    </tr>\n",
       "  </tbody>\n",
       "</table>\n",
       "<p>492 rows × 3 columns</p>\n",
       "</div>"
      ],
      "text/plain": [
       "     Codigo     Distrito  Total\n",
       "0     10101       CARMEN   2946\n",
       "1     10102       MERCED  15408\n",
       "2     10103     HOSPITAL  24030\n",
       "3     10104     CATEDRAL  15682\n",
       "4     10105       ZAPOTE  21990\n",
       "..      ...          ...    ...\n",
       "487   70601      GUACIMO  26152\n",
       "488   70602     MERCEDES   2357\n",
       "489   70603       POCORA   8494\n",
       "490   70604  RIO JIMENEZ  11836\n",
       "491   70605      DUACARI   8182\n",
       "\n",
       "[492 rows x 3 columns]"
      ]
     },
     "execution_count": 6,
     "metadata": {},
     "output_type": "execute_result"
    }
   ],
   "source": [
    "# Recargar con el excel nuevo:\n",
    "df_distritos = pd.read_excel(\"data/df_distritos.xlsx\")  # distritos poblacion de 2022\n",
    "\n",
    "# # Eliminar columnas cuyo nombre comience con 'Unnamed'\n",
    "df_distritos = df_distritos.loc[:, ~df_distritos.columns.str.startswith(\"Unnamed\")]\n",
    "\n",
    "df_distritos\n",
    "# Mostrar la tabla resultante\n",
    "# with pd.option_context('display.max_rows', None):\n",
    "#     display(df_distritos)"
   ]
  },
  {
   "cell_type": "code",
   "execution_count": 7,
   "id": "94a8946d-644d-4099-8388-5069dfb30ee5",
   "metadata": {},
   "outputs": [
    {
     "data": {
      "text/plain": [
       "count      492.000000\n",
       "mean     10659.150407\n",
       "std      11346.219640\n",
       "min         20.000000\n",
       "25%       3114.250000\n",
       "50%       6938.500000\n",
       "75%      13221.500000\n",
       "max      89531.000000\n",
       "Name: Total, dtype: float64"
      ]
     },
     "execution_count": 7,
     "metadata": {},
     "output_type": "execute_result"
    }
   ],
   "source": [
    "# # Datos estadísticos de los distritos\n",
    "df_distritos[\"Total\"].describe()"
   ]
  },
  {
   "cell_type": "code",
   "execution_count": null,
   "id": "ab788f23-508d-4bbf-99f4-43bc6e2351c1",
   "metadata": {},
   "outputs": [],
   "source": [
    "# # Contar cuántos distritos tienen nombres repetidos\n",
    "repetidos = df_distritos[\"Distrito\"].value_counts()\n",
    "nombres_repetidos = repetidos[repetidos > 1].index.tolist()\n",
    "\n",
    "# nombres_repetidos"
   ]
  },
  {
   "cell_type": "code",
   "execution_count": null,
   "id": "f6fe5cd1-0c62-4dce-a48e-4e849fada1ce",
   "metadata": {
    "scrolled": true
   },
   "outputs": [],
   "source": [
    "# Extraer tabla con todos los distritos con nombre repetido\n",
    "df_repetidos = df_distritos[df_distritos[\"Distrito\"].isin(nombres_repetidos)].copy()\n",
    "\n",
    "# Mostrar la cantidad de nombres repetidos\n",
    "print(f\"Nombres de distrito repetidos: {len(nombres_repetidos)}\")\n",
    "\n",
    "# Mostrar la tabla resultante\n",
    "with pd.option_context(\"display.max_rows\", None):\n",
    "    display(df_repetidos)"
   ]
  },
  {
   "cell_type": "code",
   "execution_count": null,
   "id": "b6d4cc37-a0e3-46d6-9b87-b4ed02aa214e",
   "metadata": {},
   "outputs": [],
   "source": [
    "media = df_distritos[\"Total\"].mean()\n",
    "desviacion = df_distritos[\"Total\"].std()\n",
    "mediana = df_distritos[\"Total\"].median()\n",
    "minimo = df_distritos[\"Total\"].min()\n",
    "maximo = df_distritos[\"Total\"].max()\n",
    "\n",
    "print(f\"Media: {media:,.0f}\")\n",
    "print(f\"Desviación estándar: {desviacion:,.0f}\")\n",
    "print(f\"Mediana: {mediana:,.0f}\")\n",
    "print(f\"Mínimo: {minimo:,.0f}\")\n",
    "print(f\"Máximo: {maximo:,.0f}\")"
   ]
  },
  {
   "cell_type": "code",
   "execution_count": null,
   "id": "45371b92-2e5f-4b68-b6bd-f4add3e5dc60",
   "metadata": {},
   "outputs": [],
   "source": [
    "# Localizar distrito con el valor máximo\n",
    "distrito_max = df_distritos[df_distritos[\"Total\"] == df_distritos[\"Total\"].max()]\n",
    "distrito_min = df_distritos[df_distritos[\"Total\"] == df_distritos[\"Total\"].min()]\n",
    "print(distrito_max)\n",
    "print(distrito_min)"
   ]
  },
  {
   "cell_type": "code",
   "execution_count": null,
   "id": "7e5ef3ce-4bc7-4d0e-9d32-9f106e8669e7",
   "metadata": {},
   "outputs": [],
   "source": [
    "# Convertir a string y rellenar con ceros a la izquierda (5 dígitos)\n",
    "df_distritos[\"Codigo\"] = df_distritos[\"Codigo\"].astype(str).str.zfill(5)\n",
    "\n",
    "# Verificar primeros resultados\n",
    "df_distritos"
   ]
  },
  {
   "cell_type": "code",
   "execution_count": 9,
   "id": "fd5dd8dc",
   "metadata": {
    "scrolled": true
   },
   "outputs": [
    {
     "ename": "AttributeError",
     "evalue": "Can only use .str accessor with string values!",
     "output_type": "error",
     "traceback": [
      "\u001b[31m---------------------------------------------------------------------------\u001b[39m",
      "\u001b[31mAttributeError\u001b[39m                            Traceback (most recent call last)",
      "\u001b[36mCell\u001b[39m\u001b[36m \u001b[39m\u001b[32mIn[9]\u001b[39m\u001b[32m, line 3\u001b[39m\n\u001b[32m      1\u001b[39m \u001b[38;5;66;03m# # Normalizar nombres para asegurar coincidencias\u001b[39;00m\n\u001b[32m      2\u001b[39m gdf_distritos[\u001b[33m\"\u001b[39m\u001b[33mCOD_UGED_clean\u001b[39m\u001b[33m\"\u001b[39m] = gdf_distritos[\u001b[33m\"\u001b[39m\u001b[33mCOD_UGED\u001b[39m\u001b[33m\"\u001b[39m].str.strip().str.upper()\n\u001b[32m----> \u001b[39m\u001b[32m3\u001b[39m df_distritos[\u001b[33m\"\u001b[39m\u001b[33mCodigo_clean\u001b[39m\u001b[33m\"\u001b[39m] = \u001b[43mdf_distritos\u001b[49m\u001b[43m[\u001b[49m\u001b[33;43m\"\u001b[39;49m\u001b[33;43mCodigo\u001b[39;49m\u001b[33;43m\"\u001b[39;49m\u001b[43m]\u001b[49m\u001b[43m.\u001b[49m\u001b[43mstr\u001b[49m.strip().str.upper()\n\u001b[32m      6\u001b[39m \u001b[38;5;66;03m# Unir por nombres limpios\u001b[39;00m\n\u001b[32m      7\u001b[39m gdf = gdf_distritos.merge(df_distritos, left_on=\u001b[33m\"\u001b[39m\u001b[33mCOD_UGED_clean\u001b[39m\u001b[33m\"\u001b[39m, right_on=\u001b[33m\"\u001b[39m\u001b[33mCodigo_clean\u001b[39m\u001b[33m\"\u001b[39m, how=\u001b[33m\"\u001b[39m\u001b[33mleft\u001b[39m\u001b[33m\"\u001b[39m)\n",
      "\u001b[36mFile \u001b[39m\u001b[32m~/ml_ai/datascience_lab_two_districts/.venv/lib/python3.12/site-packages/pandas/core/generic.py:6318\u001b[39m, in \u001b[36mNDFrame.__getattr__\u001b[39m\u001b[34m(self, name)\u001b[39m\n\u001b[32m   6311\u001b[39m \u001b[38;5;28;01mif\u001b[39;00m (\n\u001b[32m   6312\u001b[39m     name \u001b[38;5;129;01mnot\u001b[39;00m \u001b[38;5;129;01min\u001b[39;00m \u001b[38;5;28mself\u001b[39m._internal_names_set\n\u001b[32m   6313\u001b[39m     \u001b[38;5;129;01mand\u001b[39;00m name \u001b[38;5;129;01mnot\u001b[39;00m \u001b[38;5;129;01min\u001b[39;00m \u001b[38;5;28mself\u001b[39m._metadata\n\u001b[32m   6314\u001b[39m     \u001b[38;5;129;01mand\u001b[39;00m name \u001b[38;5;129;01mnot\u001b[39;00m \u001b[38;5;129;01min\u001b[39;00m \u001b[38;5;28mself\u001b[39m._accessors\n\u001b[32m   6315\u001b[39m     \u001b[38;5;129;01mand\u001b[39;00m \u001b[38;5;28mself\u001b[39m._info_axis._can_hold_identifiers_and_holds_name(name)\n\u001b[32m   6316\u001b[39m ):\n\u001b[32m   6317\u001b[39m     \u001b[38;5;28;01mreturn\u001b[39;00m \u001b[38;5;28mself\u001b[39m[name]\n\u001b[32m-> \u001b[39m\u001b[32m6318\u001b[39m \u001b[38;5;28;01mreturn\u001b[39;00m \u001b[38;5;28;43mobject\u001b[39;49m\u001b[43m.\u001b[49m\u001b[34;43m__getattribute__\u001b[39;49m\u001b[43m(\u001b[49m\u001b[38;5;28;43mself\u001b[39;49m\u001b[43m,\u001b[49m\u001b[43m \u001b[49m\u001b[43mname\u001b[49m\u001b[43m)\u001b[49m\n",
      "\u001b[36mFile \u001b[39m\u001b[32m~/ml_ai/datascience_lab_two_districts/.venv/lib/python3.12/site-packages/pandas/core/accessor.py:224\u001b[39m, in \u001b[36mCachedAccessor.__get__\u001b[39m\u001b[34m(self, obj, cls)\u001b[39m\n\u001b[32m    221\u001b[39m \u001b[38;5;28;01mif\u001b[39;00m obj \u001b[38;5;129;01mis\u001b[39;00m \u001b[38;5;28;01mNone\u001b[39;00m:\n\u001b[32m    222\u001b[39m     \u001b[38;5;66;03m# we're accessing the attribute of the class, i.e., Dataset.geo\u001b[39;00m\n\u001b[32m    223\u001b[39m     \u001b[38;5;28;01mreturn\u001b[39;00m \u001b[38;5;28mself\u001b[39m._accessor\n\u001b[32m--> \u001b[39m\u001b[32m224\u001b[39m accessor_obj = \u001b[38;5;28;43mself\u001b[39;49m\u001b[43m.\u001b[49m\u001b[43m_accessor\u001b[49m\u001b[43m(\u001b[49m\u001b[43mobj\u001b[49m\u001b[43m)\u001b[49m\n\u001b[32m    225\u001b[39m \u001b[38;5;66;03m# Replace the property with the accessor object. Inspired by:\u001b[39;00m\n\u001b[32m    226\u001b[39m \u001b[38;5;66;03m# https://www.pydanny.com/cached-property.html\u001b[39;00m\n\u001b[32m    227\u001b[39m \u001b[38;5;66;03m# We need to use object.__setattr__ because we overwrite __setattr__ on\u001b[39;00m\n\u001b[32m    228\u001b[39m \u001b[38;5;66;03m# NDFrame\u001b[39;00m\n\u001b[32m    229\u001b[39m \u001b[38;5;28mobject\u001b[39m.\u001b[34m__setattr__\u001b[39m(obj, \u001b[38;5;28mself\u001b[39m._name, accessor_obj)\n",
      "\u001b[36mFile \u001b[39m\u001b[32m~/ml_ai/datascience_lab_two_districts/.venv/lib/python3.12/site-packages/pandas/core/strings/accessor.py:194\u001b[39m, in \u001b[36mStringMethods.__init__\u001b[39m\u001b[34m(self, data)\u001b[39m\n\u001b[32m    191\u001b[39m \u001b[38;5;28;01mdef\u001b[39;00m\u001b[38;5;250m \u001b[39m\u001b[34m__init__\u001b[39m(\u001b[38;5;28mself\u001b[39m, data) -> \u001b[38;5;28;01mNone\u001b[39;00m:\n\u001b[32m    192\u001b[39m     \u001b[38;5;28;01mfrom\u001b[39;00m\u001b[38;5;250m \u001b[39m\u001b[34;01mpandas\u001b[39;00m\u001b[34;01m.\u001b[39;00m\u001b[34;01mcore\u001b[39;00m\u001b[34;01m.\u001b[39;00m\u001b[34;01marrays\u001b[39;00m\u001b[34;01m.\u001b[39;00m\u001b[34;01mstring_\u001b[39;00m\u001b[38;5;250m \u001b[39m\u001b[38;5;28;01mimport\u001b[39;00m StringDtype\n\u001b[32m--> \u001b[39m\u001b[32m194\u001b[39m     \u001b[38;5;28mself\u001b[39m._inferred_dtype = \u001b[38;5;28;43mself\u001b[39;49m\u001b[43m.\u001b[49m\u001b[43m_validate\u001b[49m\u001b[43m(\u001b[49m\u001b[43mdata\u001b[49m\u001b[43m)\u001b[49m\n\u001b[32m    195\u001b[39m     \u001b[38;5;28mself\u001b[39m._is_categorical = \u001b[38;5;28misinstance\u001b[39m(data.dtype, CategoricalDtype)\n\u001b[32m    196\u001b[39m     \u001b[38;5;28mself\u001b[39m._is_string = \u001b[38;5;28misinstance\u001b[39m(data.dtype, StringDtype)\n",
      "\u001b[36mFile \u001b[39m\u001b[32m~/ml_ai/datascience_lab_two_districts/.venv/lib/python3.12/site-packages/pandas/core/strings/accessor.py:248\u001b[39m, in \u001b[36mStringMethods._validate\u001b[39m\u001b[34m(data)\u001b[39m\n\u001b[32m    245\u001b[39m inferred_dtype = lib.infer_dtype(values, skipna=\u001b[38;5;28;01mTrue\u001b[39;00m)\n\u001b[32m    247\u001b[39m \u001b[38;5;28;01mif\u001b[39;00m inferred_dtype \u001b[38;5;129;01mnot\u001b[39;00m \u001b[38;5;129;01min\u001b[39;00m allowed_types:\n\u001b[32m--> \u001b[39m\u001b[32m248\u001b[39m     \u001b[38;5;28;01mraise\u001b[39;00m \u001b[38;5;167;01mAttributeError\u001b[39;00m(\u001b[33m\"\u001b[39m\u001b[33mCan only use .str accessor with string values!\u001b[39m\u001b[33m\"\u001b[39m)\n\u001b[32m    249\u001b[39m \u001b[38;5;28;01mreturn\u001b[39;00m inferred_dtype\n",
      "\u001b[31mAttributeError\u001b[39m: Can only use .str accessor with string values!"
     ]
    }
   ],
   "source": [
    "# # Normalizar nombres para asegurar coincidencias\n",
    "gdf_distritos[\"COD_UGED_clean\"] = gdf_distritos[\"COD_UGED\"].str.strip().str.upper()\n",
    "df_distritos[\"Codigo_clean\"] = df_distritos[\"Codigo\"].str.strip().str.upper()\n",
    "\n",
    "\n",
    "# Unir por nombres limpios\n",
    "gdf = gdf_distritos.merge(\n",
    "    df_distritos, left_on=\"COD_UGED_clean\", right_on=\"Codigo_clean\", how=\"left\"\n",
    ")\n",
    "# gdf = df_poblacion.merge(gdf_distritos, left_on=\"Nombre_clean\", right_on=\"NOMB_UGED_clean\", how=\"left\")\n",
    "gdf = gdf.dropna(subset=[\"Total\"])\n",
    "gdf = gdf.set_index(\"COD_UGED\")\n",
    "\n",
    "\n",
    "# # with pd.option_context('display.max_rows', None):\n",
    "# #     display(gdf)\n",
    "\n",
    "\n",
    "# # # Asegurarse de que COD_UGED esté como columna temporalmente\n",
    "# gdf = gdf.reset_index(\"COD_UGED\")\n",
    "\n",
    "# # Comparar con la fila anterior para encontrar duplicados contiguos en ambas columnas\n",
    "# duplicados_D = (gdf[\"Distrito\"] == gdf[\"Distrito\"].shift())\n",
    "# duplicados_I = (gdf[\"ID\"] == gdf[\"ID\"].shift())\n",
    "# duplicados_C = (gdf[\"COD_UGED\"] == gdf[\"COD_UGED\"].shift())\n",
    "# duplicados_N = (gdf[\"NOMB_UGED\"] == gdf[\"NOMB_UGED\"].shift())\n",
    "# duplicados_NU = (gdf[\"NOMB_UGEC\"] == gdf[\"NOMB_UGEC\"].shift())\n",
    "# duplicados_NP = (gdf[\"NOMB_UGEP\"] == gdf[\"NOMB_UGEP\"].shift())\n",
    "# duplicados_NC = (gdf[\"NOMB_UGED_clean\"] == gdf[\"NOMB_UGED_clean\"].shift())\n",
    "# Total = (gdf[\"Total\"] < gdf[\"Total\"].shift())\n",
    "\n",
    "# # Identificar las filas que deben eliminarse: son duplicadas y tienen menor Total que la anterior\n",
    "# condicion_eliminar = (duplicados_D & duplicados_I & duplicados_C & duplicados_N & duplicados_NU & duplicados_NP & duplicados_NC &Total)\n",
    "\n",
    "# # Eliminar esas filas\n",
    "# gdf = gdf[~condicion_eliminar].copy()\n",
    "\n",
    "# # Restaurar el índice original\n",
    "# gdf = gdf.set_index(\"COD_UGED\")\n",
    "\n",
    "\n",
    "gdf"
   ]
  },
  {
   "cell_type": "code",
   "execution_count": null,
   "id": "a177c82b-ddad-405e-8d4a-868e70485b98",
   "metadata": {},
   "outputs": [],
   "source": [
    "# # # Asegurarse de que COD_UGED esté como columna temporalmente\n",
    "# gdf = gdf.reset_index()\n",
    "\n",
    "# # Asegúrate de que la columna 'Est. 2022' sea numérica\n",
    "# gdf[\"Total\"] = pd.to_numeric(gdf[\"Total\"], errors=\"coerce\")\n",
    "\n",
    "# # Ordenar por población descendente para que la mayor quede primero\n",
    "# gdf = gdf.sort_values(\"Total\", ascending=False)\n",
    "\n",
    "# # Eliminar duplicados conservando la de mayor población\n",
    "# gdf = gdf.drop_duplicates(subset=\"COD_UGED\", keep=\"first\")\n",
    "\n",
    "# # Restaurar el índice si es necesario\n",
    "# gdf = gdf.set_index(\"COD_UGED\")\n",
    "\n",
    "\n",
    "# gdf"
   ]
  },
  {
   "cell_type": "code",
   "execution_count": null,
   "id": "cce26afa",
   "metadata": {},
   "outputs": [],
   "source": [
    "# Crear grafo de contigüidad\n",
    "G = nx.Graph()\n",
    "\n",
    "# Agregar nodos con población\n",
    "for idx, row in gdf.iterrows():\n",
    "    G.add_node(idx, nombre=row[\"NOMB_UGED\"], poblacion=row[\"Total\"])\n",
    "\n",
    "# Agregar aristas entre distritos contiguos\n",
    "for i, geom in gdf.geometry.items():\n",
    "    vecinos = gdf[gdf.geometry.touches(geom)].index\n",
    "    for v in vecinos:\n",
    "        if not G.has_edge(i, v):\n",
    "            G.add_edge(i, v)"
   ]
  },
  {
   "cell_type": "markdown",
   "id": "d6efc6ea",
   "metadata": {},
   "source": [
    "## Visualización del Grafo y Métricas"
   ]
  },
  {
   "cell_type": "code",
   "execution_count": 10,
   "id": "a156cd32",
   "metadata": {},
   "outputs": [
    {
     "ename": "NameError",
     "evalue": "name 'gdf' is not defined",
     "output_type": "error",
     "traceback": [
      "\u001b[31m---------------------------------------------------------------------------\u001b[39m",
      "\u001b[31mNameError\u001b[39m                                 Traceback (most recent call last)",
      "\u001b[36mCell\u001b[39m\u001b[36m \u001b[39m\u001b[32mIn[10]\u001b[39m\u001b[32m, line 3\u001b[39m\n\u001b[32m      1\u001b[39m \u001b[38;5;66;03m# Visualización del grafo sobre el mapa\u001b[39;00m\n\u001b[32m      2\u001b[39m fig, ax = plt.subplots(figsize=(\u001b[32m20\u001b[39m, \u001b[32m20\u001b[39m))\n\u001b[32m----> \u001b[39m\u001b[32m3\u001b[39m \u001b[43mgdf\u001b[49m.plot(ax=ax, color=\u001b[33m'\u001b[39m\u001b[33mlightgreen\u001b[39m\u001b[33m'\u001b[39m, edgecolor=\u001b[33m'\u001b[39m\u001b[33mblack\u001b[39m\u001b[33m'\u001b[39m)\n\u001b[32m      4\u001b[39m \u001b[38;5;28;01mfor\u001b[39;00m i, row \u001b[38;5;129;01min\u001b[39;00m gdf.iterrows():\n\u001b[32m      5\u001b[39m     centroid = row.geometry.centroid\n",
      "\u001b[31mNameError\u001b[39m: name 'gdf' is not defined"
     ]
    },
    {
     "data": {
      "image/png": "[encoded data removed]",
      "text/plain": [
       "<Figure size 2000x2000 with 1 Axes>"
      ]
     },
     "metadata": {},
     "output_type": "display_data"
    }
   ],
   "source": [
    "# Visualización del grafo sobre el mapa\n",
    "fig, ax = plt.subplots(figsize=(20, 20))\n",
    "gdf.plot(ax=ax, color=\"lightgreen\", edgecolor=\"black\")\n",
    "for i, row in gdf.iterrows():\n",
    "    centroid = row.geometry.centroid\n",
    "    ax.text(centroid.x, centroid.y, str(i), fontsize=6, ha=\"center\")\n",
    "plt.title(\"Distritos y sus etiquetas (COD_UGED)\")\n",
    "plt.axis(\"off\")\n",
    "plt.show()"
   ]
  },
  {
   "cell_type": "code",
   "execution_count": null,
   "id": "b7cd38a4-ebb9-4cfa-80f0-75ca26cc81d5",
   "metadata": {},
   "outputs": [],
   "source": [
    "# (Opcional) Calcular densidad si tenemos área\n",
    "# gdf[\"densidad\"] = gdf[\"Total\"] / gdf.geometry.area\n",
    "\n",
    "# Si solo queremos población para color:\n",
    "columna_color = \"Total\"  # O \"densidad\" si la calculas\n",
    "\n",
    "# Crear visualización con colormap\n",
    "fig, ax = plt.subplots(figsize=(20, 20))\n",
    "gdf.plot(ax=ax, column=columna_color, cmap=\"coolwarm\", edgecolor=\"black\", legend=True)\n",
    "\n",
    "# Añadir etiquetas por distrito (opcional)\n",
    "for i, row in gdf.iterrows():\n",
    "    centroid = row.geometry.centroid\n",
    "    ax.text(centroid.x, centroid.y, str(i), fontsize=5, ha=\"center\")\n",
    "\n",
    "plt.title(f\"Distritos coloreados por {columna_color}\")\n",
    "plt.axis(\"off\")\n",
    "plt.show()"
   ]
  },
  {
   "cell_type": "code",
   "execution_count": null,
   "id": "4f229527-6c38-4d92-b9d7-3c938bd264e3",
   "metadata": {},
   "outputs": [],
   "source": [
    "# Definir rango deseado para los colores\n",
    "vmin = 20\n",
    "vmax = 10659\n",
    "\n",
    "# Visualización con escala personalizada\n",
    "fig, ax = plt.subplots(figsize=(12, 12))\n",
    "gdf.plot(\n",
    "    ax=ax,\n",
    "    column=columna_color,\n",
    "    cmap=\"coolwarm\",\n",
    "    edgecolor=\"black\",\n",
    "    legend=True,\n",
    "    vmin=vmin,\n",
    "    vmax=vmax,\n",
    ")\n",
    "\n",
    "# Añadir etiquetas por distrito\n",
    "for i, row in gdf.iterrows():\n",
    "    centroid = row.geometry.centroid\n",
    "    ax.text(centroid.x, centroid.y, str(i), fontsize=5, ha=\"center\")\n",
    "\n",
    "plt.title(f\"Distritos coloreados por {columna_color} (Escala: {vmin}-{vmax})\")\n",
    "plt.axis(\"off\")\n",
    "plt.show()"
   ]
  },
  {
   "cell_type": "code",
   "execution_count": null,
   "id": "8622aa3c-f277-454d-801b-e30c40757bd5",
   "metadata": {},
   "outputs": [],
   "source": [
    "# Asegurar que estamos en la proyección correcta\n",
    "gdf = gdf.to_crs(epsg=5367)\n",
    "\n",
    "# Recorte espacial: Bounding Box aproximada para el Valle Central\n",
    "gdf_valle = gdf.cx[470000:510000, 1090000:1125000]\n",
    "\n",
    "# Visualizar solo los distritos del Valle Central con escala fija\n",
    "fig, ax = plt.subplots(figsize=(10, 10))\n",
    "gdf_valle.plot(\n",
    "    ax=ax,\n",
    "    column=\"Total\",\n",
    "    cmap=\"coolwarm\",\n",
    "    edgecolor=\"black\",\n",
    "    legend=True,\n",
    "    vmin=0,\n",
    "    vmax=10000,\n",
    ")\n",
    "\n",
    "# Añadir etiquetas opcionales\n",
    "for i, row in gdf_valle.iterrows():\n",
    "    centroid = row.geometry.centroid\n",
    "    ax.text(centroid.x, centroid.y, str(row[\"Distrito\"]), fontsize=4, ha=\"center\")\n",
    "\n",
    "plt.title(\"Distritos del Valle Central de Costa Rica (Zoom, Total 0–10000)\")\n",
    "plt.axis(\"off\")\n",
    "plt.show()"
   ]
  },
  {
   "cell_type": "code",
   "execution_count": null,
   "id": "efb693fd",
   "metadata": {},
   "outputs": [],
   "source": [
    "# Visualizar el grafo de contigüidad (sin base geográfica)\n",
    "plt.figure(figsize=(10, 10))\n",
    "pos = nx.spring_layout(G, seed=42)\n",
    "nx.draw(G, pos, node_size=10, with_labels=False)\n",
    "plt.title(\"Grafo de contigüidad entre distritos\")\n",
    "plt.show()"
   ]
  },
  {
   "cell_type": "code",
   "execution_count": null,
   "id": "93abb076",
   "metadata": {},
   "outputs": [],
   "source": [
    "# Métricas del grafo\n",
    "print(f\"Número de nodos: {G.number_of_nodes()}\")\n",
    "print(f\"Número de aristas: {G.number_of_edges()}\")\n",
    "grados = [d for _, d in G.degree()]\n",
    "print(f\"Grado medio: {sum(grados) / len(grados):.2f}\")\n",
    "print(f\"Número de componentes conexas: {nx.number_connected_components(G)}\")"
   ]
  },
  {
   "cell_type": "markdown",
   "id": "efff6996",
   "metadata": {},
   "source": [
    "## Métricas de Evaluación de Distritos"
   ]
  },
  {
   "cell_type": "markdown",
   "id": "e5e2d5aa",
   "metadata": {},
   "source": [
    "### 1. Desviación estándar de la población\n",
    "Esto permite evaluar qué tan equitativos son los distritos en términos de carga poblacional."
   ]
  },
  {
   "cell_type": "code",
   "execution_count": null,
   "id": "f29bd936",
   "metadata": {},
   "outputs": [],
   "source": [
    "# import numpy as np\n",
    "\n",
    "poblaciones = [data[\"poblacion\"] for _, data in G.nodes(data=True)]\n",
    "media_pob = np.mean(poblaciones)\n",
    "desviacion = np.std(poblaciones)\n",
    "print(f\"Promedio de población por distrito: {media_pob:.2f}\")\n",
    "print(f\"Desviación estándar poblacional: {desviacion:.2f}\")"
   ]
  },
  {
   "cell_type": "markdown",
   "id": "8e6d12f5",
   "metadata": {},
   "source": [
    "### 2. Verificación de contigüidad\n",
    "Cada distrito debe formar parte de un grafo conexo. Aquí verificamos si el grafo total tiene más de una componente conexa."
   ]
  },
  {
   "cell_type": "code",
   "execution_count": null,
   "id": "15656c89",
   "metadata": {},
   "outputs": [],
   "source": [
    "componentes = list(nx.connected_components(G))\n",
    "print(f\"Número de componentes conexas: {len(componentes)}\")\n",
    "if len(componentes) == 1:\n",
    "    print(\"Todos los distritos están contiguamente conectados.\")\n",
    "else:\n",
    "    print(\"Advertencia: hay distritos desconectados.\")"
   ]
  },
  {
   "cell_type": "markdown",
   "id": "6abc0fba",
   "metadata": {},
   "source": [
    "### 3. Índice de Polsby-Popper (Compacidad)\n",
    "Este índice mide cuán compacto es un distrito según su forma geométrica. El valor ideal es cercano a 1 (circular).\n",
    "\n",
    "$$\n",
    "\\text{Polsby-Popper} = \\frac{4\\pi \\cdot A}{P^2}\n",
    "$$\n",
    "\n",
    "donde:\n",
    "\n",
    "- $A$ es el área del distrito,\n",
    "- $P$ es el perímetro del distrito.\n",
    "\n",
    "Este índice toma valores en el intervalo $(0,1]$, siendo **1** la forma más compacta (un círculo perfecto).\n"
   ]
  },
  {
   "cell_type": "code",
   "execution_count": null,
   "id": "138b17e6",
   "metadata": {},
   "outputs": [],
   "source": [
    "def polsby_popper(geom):\n",
    "    if geom and geom.area > 0 and geom.length > 0:\n",
    "        return (4 * np.pi * geom.area) / (geom.length**2)\n",
    "    return 0\n",
    "\n",
    "\n",
    "gdf[\"polsby_popper\"] = gdf.geometry.apply(polsby_popper)\n",
    "gdf[[\"NOMB_UGED\", \"polsby_popper\"]].sort_values(\n",
    "    by=\"polsby_popper\", ascending=True\n",
    ").head(100)\n",
    "\n",
    "gdf"
   ]
  },
  {
   "cell_type": "markdown",
   "id": "3e3dd382-2c98-41d1-8e1e-6362f03ad637",
   "metadata": {},
   "source": [
    "##  ¿Cuántos distritos $k$ proponer?"
   ]
  },
  {
   "cell_type": "code",
   "execution_count": null,
   "id": "14789404-6d28-4891-9bf2-1c18c806dbd5",
   "metadata": {},
   "outputs": [],
   "source": [
    "# Procedemos a analizar con detalle para el problema de distritacion politica (PDP)\n",
    "\n",
    "# Calcula el coeficiente de variación poblacional\n",
    "cv = gdf[\"Total\"].std() / gdf[\"Total\"].mean()\n",
    "print(cv)"
   ]
  },
  {
   "cell_type": "code",
   "execution_count": null,
   "id": "99c1c5ed-4fb4-4862-9d8a-ebf68a63b2f3",
   "metadata": {},
   "outputs": [],
   "source": [
    "# Añade la columna Polsby_Popper:\n",
    "gdf[\"area\"] = gdf.geometry.area\n",
    "gdf[\"perimeter\"] = gdf.geometry.length\n",
    "gdf[\"polsby_popper\"] = (4 * np.pi * gdf[\"area\"]) / (gdf[\"perimeter\"] ** 2)\n",
    "\n",
    "gdf"
   ]
  },
  {
   "cell_type": "code",
   "execution_count": null,
   "id": "13c44e00-d19b-498f-a7fb-300395411441",
   "metadata": {},
   "outputs": [],
   "source": [
    "# Verifica contigüidad\n",
    "G = nx.Graph()\n",
    "for i, geom_i in gdf.geometry.items():\n",
    "    G.add_node(i)\n",
    "    for j, geom_j in gdf.geometry.items():\n",
    "        if i != j and geom_i.touches(geom_j):\n",
    "            G.add_edge(i, j)\n",
    "\n",
    "componentes = list(nx.connected_components(G))\n",
    "distritos_multiples = [c for c in componentes if len(c) < 2]"
   ]
  },
  {
   "cell_type": "code",
   "execution_count": null,
   "id": "54279e01-df27-4c8f-8a6c-b2bc31fabeb1",
   "metadata": {},
   "outputs": [],
   "source": [
    "# k optimo\n",
    "pob_total = gdf[\"Total\"].sum()\n",
    "pob_por_distrito = 89474  # promedio nacional por diputado\n",
    "k = int(round(pob_total / pob_por_distrito))\n",
    "print(k)"
   ]
  },
  {
   "cell_type": "markdown",
   "id": "ed90ca35",
   "metadata": {},
   "source": [
    "## Módulo de Redistribución Electoral tipo 'Caso Alemán' para Costa Rica"
   ]
  },
  {
   "cell_type": "code",
   "execution_count": null,
   "id": "1b319f6a",
   "metadata": {},
   "outputs": [],
   "source": [
    "# Paso 1: Estimar número óptimo de distritos uninominales\n",
    "poblacion_total = gdf[\"Total\"].sum()\n",
    "meta_poblacional = 89474  # objetivo basado en diputados actuales\n",
    "k = round(poblacion_total / meta_poblacional)\n",
    "print(f\"Número estimado de distritos (k): {k}\")"
   ]
  },
  {
   "cell_type": "code",
   "execution_count": null,
   "id": "3979c02e-6579-4274-886b-fa238c4ca247",
   "metadata": {},
   "outputs": [],
   "source": [
    "# Calcular centroides y extraer coordenadas\n",
    "gdf[\"centroid\"] = gdf.geometry.centroid\n",
    "gdf[\"x\"] = gdf[\"centroid\"].x\n",
    "gdf[\"y\"] = gdf[\"centroid\"].y"
   ]
  },
  {
   "cell_type": "code",
   "execution_count": null,
   "id": "1b32416e-6c8c-408f-9bfb-60b5fca38946",
   "metadata": {},
   "outputs": [],
   "source": [
    "coords = gdf[[\"x\", \"y\"]].values"
   ]
  },
  {
   "cell_type": "code",
   "execution_count": null,
   "id": "f6490479-3f21-4c48-8b21-54fe03d69bb7",
   "metadata": {},
   "outputs": [],
   "source": [
    "# Nuevo valor de k\n",
    "poblacion_total = gdf[\"Total\"].sum()\n",
    "meta_poblacional = 45000  # nueva cantidad\n",
    "cantidad_diputados = poblacion_total / meta_poblacional\n",
    "\n",
    "\n",
    "k = round(poblacion_total / meta_poblacional)\n",
    "print(f\"Número estimado de distritos (k): {k}\")"
   ]
  },
  {
   "cell_type": "code",
   "execution_count": null,
   "id": "d1b56f3b",
   "metadata": {},
   "outputs": [],
   "source": [
    "# Paso 2: Aplicar K-means usando coordenadas geográficas\n",
    "# from sklearn.cluster import KMeans\n",
    "\n",
    "coords = gdf[[\"x\", \"y\"]].values\n",
    "kmeans = KMeans(n_clusters=k, random_state=0, n_init=10).fit(coords)\n",
    "gdf[\"DistritoNuevo\"] = kmeans.labels_\n",
    "\n",
    "gdf.plot(\n",
    "    column=\"DistritoNuevo\",\n",
    "    categorical=True,\n",
    "    figsize=(20, 20),\n",
    "    legend=False,\n",
    "    edgecolor=\"k\",\n",
    ")"
   ]
  },
  {
   "cell_type": "code",
   "execution_count": null,
   "id": "744ae00a-13f1-4f75-9aff-0416eef5ba43",
   "metadata": {},
   "outputs": [],
   "source": [
    "# Asegurar que estamos en la proyección correcta\n",
    "gdf = gdf.to_crs(epsg=5367)\n",
    "\n",
    "# Recorte espacial: Bounding Box aproximada para el Valle Central\n",
    "gdf_valle = gdf.cx[470000:510000, 1090000:1125000]\n",
    "\n",
    "# Visualizar solo los distritos del Valle Central con escala fija\n",
    "fig, ax = plt.subplots(figsize=(10, 10))\n",
    "gdf_valle.plot(\n",
    "    ax=ax,\n",
    "    column=\"Total\",\n",
    "    cmap=\"tab20\",\n",
    "    edgecolor=\"black\",\n",
    "    legend=True,\n",
    "    vmin=0,\n",
    "    vmax=10000,\n",
    ")\n",
    "\n",
    "# Añadir etiquetas opcionales\n",
    "for i, row in gdf_valle.iterrows():\n",
    "    centroid = row.geometry.centroid\n",
    "    ax.text(centroid.x, centroid.y, str(row[\"DistritoNuevo\"]), fontsize=4, ha=\"center\")\n",
    "\n",
    "plt.title(\n",
    "    \"Distritos del Valle Central de Costa Rica (Zoom, Total 0–10000), version Kmeans\"\n",
    ")\n",
    "plt.axis(\"off\")\n",
    "plt.show()"
   ]
  },
  {
   "cell_type": "code",
   "execution_count": null,
   "id": "01512651",
   "metadata": {},
   "outputs": [],
   "source": [
    "# Paso 3: Evaluar población por nuevo distrito\n",
    "agrupado = (\n",
    "    gdf.groupby(\"DistritoNuevo\")[\"Total\"]\n",
    "    .agg([\"count\", \"sum\"])\n",
    "    .rename(columns={\"count\": \"NumDistritos\", \"sum\": \"Poblacion\"})\n",
    ")\n",
    "agrupado[\"Desviacion_%\"] = (\n",
    "    100 * (agrupado[\"Poblacion\"] - meta_poblacional) / meta_poblacional\n",
    ")\n",
    "agrupado.sort_values(by=\"Poblacion\")"
   ]
  },
  {
   "cell_type": "code",
   "execution_count": null,
   "id": "b7591fa8",
   "metadata": {},
   "outputs": [],
   "source": [
    "# Paso 4: Visualización de desviación poblacional\n",
    "\n",
    "agrupado[\"Desviacion_%\"].plot(\n",
    "    kind=\"bar\", figsize=(12, 5), title=\"Desviación porcentual poblacional por distrito\"\n",
    ")\n",
    "plt.axhline(0, color=\"black\", linestyle=\"--\")\n",
    "plt.ylabel(\"% desviación\")\n",
    "plt.grid(True)\n",
    "plt.tight_layout()\n",
    "plt.show()"
   ]
  },
  {
   "cell_type": "markdown",
   "id": "b329ead1",
   "metadata": {},
   "source": [
    "## Clustering con DBSCAN ponderado por densidad poblacional"
   ]
  },
  {
   "cell_type": "code",
   "execution_count": null,
   "id": "8cb6586c",
   "metadata": {},
   "outputs": [],
   "source": [
    "# Paso 1: Asegurarse de tener coordenadas x, y de centroides\n",
    "gdf[\"centroid\"] = gdf.geometry.centroid\n",
    "gdf[\"x\"] = gdf[\"centroid\"].x\n",
    "gdf[\"y\"] = gdf[\"centroid\"].y\n",
    "coords = gdf[[\"x\", \"y\"]].values"
   ]
  },
  {
   "cell_type": "code",
   "execution_count": null,
   "id": "1cca27ff",
   "metadata": {},
   "outputs": [],
   "source": [
    "# Paso 2: Normalizar coordenadas\n",
    "# from sklearn.preprocessing import StandardScaler\n",
    "scaler = StandardScaler()\n",
    "coords_scaled = scaler.fit_transform(coords)"
   ]
  },
  {
   "cell_type": "code",
   "execution_count": null,
   "id": "e9c2af8d",
   "metadata": {},
   "outputs": [],
   "source": [
    "# Paso 3: Aplicar DBSCAN considerando densidad poblacional como pesos\n",
    "# from sklearn.cluster import DBSCAN\n",
    "\n",
    "# DBSCAN requiere definir eps (radio) y min_samples (núcleo mínimo)\n",
    "dbscan = DBSCAN(eps=0.5, min_samples=5)\n",
    "gdf[\"DBSCAN_cluster\"] = dbscan.fit_predict(coords_scaled)\n",
    "\n",
    "gdf.plot(\n",
    "    column=\"DBSCAN_cluster\",\n",
    "    categorical=True,\n",
    "    figsize=(20, 20),\n",
    "    legend=True,\n",
    "    edgecolor=\"k\",\n",
    ")"
   ]
  },
  {
   "cell_type": "code",
   "execution_count": null,
   "id": "632fa9a4",
   "metadata": {},
   "outputs": [],
   "source": [
    "# Paso 4: Evaluar agrupaciones por población total\n",
    "agrupado_dbscan = (\n",
    "    gdf.groupby(\"DBSCAN_cluster\")[\"Total\"]\n",
    "    .agg([\"count\", \"sum\"])\n",
    "    .rename(columns={\"count\": \"NumDistritos\", \"sum\": \"Poblacion\"})\n",
    ")\n",
    "agrupado_dbscan = agrupado_dbscan.sort_values(by=\"Poblacion\", ascending=False)\n",
    "agrupado_dbscan"
   ]
  },
  {
   "cell_type": "markdown",
   "id": "7b59a2fe",
   "metadata": {},
   "source": [
    "## Partición de Grafo por Clustering Espectral (Spectral Clustering)"
   ]
  },
  {
   "cell_type": "code",
   "execution_count": null,
   "id": "9d3ff465",
   "metadata": {},
   "outputs": [],
   "source": [
    "# Paso 1: Crear matriz de adyacencia ponderada por proximidad y población\n",
    "# from sklearn.preprocessing import normalize\n",
    "# from sklearn.cluster import SpectralClustering\n",
    "# import numpy as np\n",
    "# import networkx as nx\n",
    "\n",
    "gdf = gdf.reset_index(drop=True)\n",
    "\n",
    "\n",
    "G = nx.Graph()\n",
    "G.add_nodes_from(gdf.index)\n",
    "for i, geom_i in gdf.geometry.items():\n",
    "    for j, geom_j in gdf.geometry.items():\n",
    "        if i < j and geom_i.touches(geom_j):\n",
    "            pop_diff = abs(gdf.loc[i, \"Total\"] - gdf.loc[j, \"Total\"]) + 1\n",
    "            weight = 1 / pop_diff\n",
    "            G.add_edge(i, j, weight=weight)\n",
    "\n",
    "A = nx.to_numpy_array(G, nodelist=gdf.index, weight=\"weight\")"
   ]
  },
  {
   "cell_type": "code",
   "execution_count": null,
   "id": "4409907b",
   "metadata": {},
   "outputs": [],
   "source": [
    "# Paso 2: Aplicar Clustering Espectral\n",
    "spectral = SpectralClustering(\n",
    "    n_clusters=k, affinity=\"precomputed\", assign_labels=\"kmeans\", random_state=42\n",
    ")\n",
    "gdf[\"Distrito_Spectral\"] = spectral.fit_predict(A)"
   ]
  },
  {
   "cell_type": "code",
   "execution_count": null,
   "id": "0a5250a1",
   "metadata": {},
   "outputs": [],
   "source": [
    "# Visualización del resultado\n",
    "# import matplotlib.pyplot as plt\n",
    "fig, ax = plt.subplots(figsize=(20, 20))\n",
    "gdf.plot(\n",
    "    column=\"Distrito_Spectral\", cmap=\"tab20\", linewidth=0.2, edgecolor=\"black\", ax=ax\n",
    ")\n",
    "plt.title(\"Partición Espectral del Grafo de Distritos\")\n",
    "plt.axis(\"off\")\n",
    "plt.show()"
   ]
  },
  {
   "cell_type": "code",
   "execution_count": null,
   "id": "043d9f53-b3f9-49ec-90f8-c8b710477735",
   "metadata": {},
   "outputs": [],
   "source": [
    "# Asegurar que estamos en la proyección correcta\n",
    "gdf = gdf.to_crs(epsg=5367)\n",
    "\n",
    "# Recorte espacial: Bounding Box aproximada para el Valle Central\n",
    "gdf_valle = gdf.cx[470000:510000, 1090000:1125000]\n",
    "\n",
    "# Visualizar solo los distritos del Valle Central con escala fija\n",
    "fig, ax = plt.subplots(figsize=(10, 10))\n",
    "gdf_valle.plot(\n",
    "    ax=ax,\n",
    "    column=\"Total\",\n",
    "    cmap=\"tab20\",\n",
    "    edgecolor=\"black\",\n",
    "    legend=True,\n",
    "    vmin=0,\n",
    "    vmax=10000,\n",
    ")\n",
    "\n",
    "# Añadir etiquetas opcionales\n",
    "for i, row in gdf_valle.iterrows():\n",
    "    centroid = row.geometry.centroid\n",
    "    ax.text(\n",
    "        centroid.x, centroid.y, str(row[\"Distrito_Spectral\"]), fontsize=4, ha=\"center\"\n",
    "    )\n",
    "\n",
    "plt.title(\n",
    "    \"Distritos del Valle Central de Costa Rica (Zoom, Total 0–10000), version Spectral\"\n",
    ")\n",
    "plt.axis(\"off\")\n",
    "plt.show()"
   ]
  },
  {
   "cell_type": "markdown",
   "id": "63c6fefa-b674-48ff-92cb-e2c537ae2394",
   "metadata": {},
   "source": [
    "## Distritación por Provincias\n"
   ]
  },
  {
   "cell_type": "code",
   "execution_count": null,
   "id": "ab1cf784-9639-4a1c-8c60-5c3a039a24f6",
   "metadata": {},
   "outputs": [],
   "source": [
    "gdf"
   ]
  },
  {
   "cell_type": "code",
   "execution_count": null,
   "id": "8b5cb104-49d8-43be-b6d0-2c9840dd834e",
   "metadata": {},
   "outputs": [],
   "source": [
    "# Filtrar filas donde NOMB_UGEP sea 'SAN JOSE'\n",
    "gdf_san_jose = gdf[gdf[\"NOMB_UGEP\"] == \"SAN JOSE\"].copy()\n",
    "# # Restaurar el índice si es necesario\n",
    "gdf_san_jose = gdf_san_jose.set_index(\"Codigo\")\n",
    "\n",
    "gdf_san_jose"
   ]
  },
  {
   "cell_type": "code",
   "execution_count": null,
   "id": "a33c8bdc-b174-4b77-898c-bdb9dbc87e24",
   "metadata": {},
   "outputs": [],
   "source": [
    "# Crear grafo de contigüidad\n",
    "G_san_jose = nx.Graph()\n",
    "\n",
    "# Agregar nodos con población\n",
    "for idx, row in gdf_san_jose.iterrows():\n",
    "    G_san_jose.add_node(idx, nombre=row[\"NOMB_UGED\"], poblacion=row[\"Total\"])\n",
    "\n",
    "# Agregar aristas entre distritos contiguos\n",
    "for i, geom in gdf_san_jose.geometry.items():\n",
    "    vecinos = gdf_san_jose[gdf_san_jose.geometry.touches(geom)].index\n",
    "    for v in vecinos:\n",
    "        if not G_san_jose.has_edge(i, v):\n",
    "            G_san_jose.add_edge(i, v)"
   ]
  },
  {
   "cell_type": "code",
   "execution_count": null,
   "id": "c7262636-2d1f-4644-9d74-b2a8516ccee5",
   "metadata": {},
   "outputs": [],
   "source": [
    "# Visualización del grafo sobre el mapa\n",
    "fig, ax = plt.subplots(figsize=(15, 15))\n",
    "gdf_san_jose.plot(ax=ax, color=\"lightgreen\", edgecolor=\"black\")\n",
    "for i, row in gdf_san_jose.iterrows():\n",
    "    centroid = row.geometry.centroid\n",
    "    ax.text(centroid.x, centroid.y, str(i), fontsize=6, ha=\"center\")\n",
    "plt.title(\"Distritos de San Jose y sus etiquetas (COD_UGED)\")\n",
    "plt.axis(\"off\")\n",
    "plt.show()"
   ]
  },
  {
   "cell_type": "code",
   "execution_count": null,
   "id": "74b76792-bf05-46ba-9947-5af2609fbe4b",
   "metadata": {},
   "outputs": [],
   "source": [
    "# Visualizar el grafo de contigüidad (sin base geográfica)\n",
    "plt.figure(figsize=(10, 10))\n",
    "pos = nx.spring_layout(G_san_jose, seed=42)\n",
    "nx.draw(G_san_jose, pos, node_size=10, with_labels=True)\n",
    "plt.title(\"Grafo de contigüidad entre distritos\")\n",
    "plt.show()"
   ]
  },
  {
   "cell_type": "code",
   "execution_count": null,
   "id": "f9f2e494-1f56-4dc5-bbe9-c926360dca0e",
   "metadata": {},
   "outputs": [],
   "source": [
    "# Métricas del grafo\n",
    "print(f\"Número de nodos: {G_san_jose.number_of_nodes()}\")\n",
    "print(f\"Número de aristas: {G_san_jose.number_of_edges()}\")\n",
    "grados = [d for _, d in G_san_jose.degree()]\n",
    "print(f\"Grado medio: {sum(grados) / len(grados):.2f}\")\n",
    "print(f\"Número de componentes conexas: {nx.number_connected_components(G_san_jose)}\")"
   ]
  },
  {
   "cell_type": "code",
   "execution_count": null,
   "id": "4fe3e16e-ed12-4bd3-9651-583e7e890b17",
   "metadata": {},
   "outputs": [],
   "source": [
    "# Paso 1: Estimar número óptimo de distritos uninominales\n",
    "poblacion_total_sj = gdf_san_jose[\"Total\"].sum()\n",
    "print(poblacion_total_sj)\n",
    "\n",
    "meta_poblacional = 30000  # objetivo basado en diputados actuales\n",
    "\n",
    "curules_sj = poblacion_total_sj / meta_poblacional\n",
    "\n",
    "print(curules_sj)\n",
    "\n",
    "k_sj = round(poblacion_total / meta_poblacional)\n",
    "print(f\"Número estimado de distritos (k): {k_sj}\")"
   ]
  },
  {
   "cell_type": "code",
   "execution_count": null,
   "id": "757be88d-e085-453e-bd2a-dd745b4ba5f4",
   "metadata": {},
   "outputs": [],
   "source": [
    "# Calcular centroides y extraer coordenadas\n",
    "gdf_san_jose[\"centroid\"] = gdf_san_jose.geometry.centroid\n",
    "gdf_san_jose[\"x\"] = gdf_san_jose[\"centroid\"].x\n",
    "gdf_san_jose[\"y\"] = gdf_san_jose[\"centroid\"].y"
   ]
  },
  {
   "cell_type": "code",
   "execution_count": null,
   "id": "0674ff53-3346-4049-9fa5-c2b4e6ff5535",
   "metadata": {},
   "outputs": [],
   "source": [
    "# Paso 2: Aplicar K-means usando coordenadas geográficas\n",
    "# from sklearn.cluster import KMeans\n",
    "\n",
    "coords = gdf_san_jose[[\"x\", \"y\"]].values\n",
    "kmeans = KMeans(n_clusters=k_sj, random_state=0, n_init=10).fit(coords)\n",
    "gdf_san_jose[\"DistritoNuevo\"] = kmeans.labels_\n",
    "\n",
    "gdf_san_jose.plot(\n",
    "    column=\"DistritoNuevo\",\n",
    "    categorical=True,\n",
    "    figsize=(10, 10),\n",
    "    legend=False,\n",
    "    edgecolor=\"k\",\n",
    ")"
   ]
  },
  {
   "cell_type": "code",
   "execution_count": null,
   "id": "212e327e-2ac6-4625-b31f-045dde3572f5",
   "metadata": {
    "scrolled": true
   },
   "outputs": [],
   "source": [
    "# Paso 3: Evaluar población por nuevo distrito\n",
    "agrupado = (\n",
    "    gdf_san_jose.groupby(\"DistritoNuevo\")[\"Total\"]\n",
    "    .agg([\"count\", \"sum\"])\n",
    "    .rename(columns={\"count\": \"NumDistritos\", \"sum\": \"Poblacion\"})\n",
    ")\n",
    "agrupado[\"Desviacion_%\"] = (\n",
    "    100 * (agrupado[\"Poblacion\"] - meta_poblacional) / meta_poblacional\n",
    ")\n",
    "agrupado.sort_values(by=\"Poblacion\")"
   ]
  },
  {
   "cell_type": "code",
   "execution_count": null,
   "id": "c7b3c3f9-922d-4874-9d0f-708e293c183a",
   "metadata": {},
   "outputs": [],
   "source": [
    "# Paso 4: Visualización de desviación poblacional\n",
    "\n",
    "agrupado[\"Desviacion_%\"].plot(\n",
    "    kind=\"bar\", figsize=(12, 5), title=\"Desviación porcentual poblacional por distrito\"\n",
    ")\n",
    "plt.axhline(0, color=\"black\", linestyle=\"--\")\n",
    "plt.ylabel(\"% desviación\")\n",
    "plt.grid(True)\n",
    "plt.tight_layout()\n",
    "plt.show()"
   ]
  },
  {
   "cell_type": "code",
   "execution_count": null,
   "id": "8eb4f158-2b7b-40ba-b1e4-8eb04e9287bf",
   "metadata": {},
   "outputs": [],
   "source": [
    "# Paso 1: Crear matriz de adyacencia ponderada por proximidad y población\n",
    "# from sklearn.preprocessing import normalize\n",
    "# from sklearn.cluster import SpectralClustering\n",
    "# import numpy as np\n",
    "# import networkx as nx\n",
    "\n",
    "gdf_san_jose = gdf_san_jose.reset_index(drop=True)\n",
    "\n",
    "\n",
    "G_san_jose = nx.Graph()\n",
    "G_san_jose.add_nodes_from(gdf_san_jose.index)\n",
    "for i, geom_i in gdf_san_jose.geometry.items():\n",
    "    for j, geom_j in gdf_san_jose.geometry.items():\n",
    "        if i < j and geom_i.touches(geom_j):\n",
    "            pop_diff = (\n",
    "                abs(gdf_san_jose.loc[i, \"Total\"] - gdf_san_jose.loc[j, \"Total\"]) + 1\n",
    "            )\n",
    "            weight = 1 / pop_diff\n",
    "            G.add_edge(i, j, weight=weight)\n",
    "\n",
    "A = nx.to_numpy_array(G_san_jose, nodelist=gdf_san_jose.index, weight=\"weight\")"
   ]
  },
  {
   "cell_type": "code",
   "execution_count": null,
   "id": "2aa39996-0dfe-41bf-9f66-21bf2ecc7b87",
   "metadata": {},
   "outputs": [],
   "source": [
    "# Paso 2: Aplicar Clustering Espectral\n",
    "spectral = SpectralClustering(\n",
    "    n_clusters=k_sj, affinity=\"precomputed\", assign_labels=\"kmeans\", random_state=42\n",
    ")\n",
    "gdf_san_jose[\"Distrito_Spectral\"] = spectral.fit_predict(A)"
   ]
  },
  {
   "cell_type": "code",
   "execution_count": null,
   "id": "728d8399-3fd7-4a84-8243-df6b99054767",
   "metadata": {},
   "outputs": [],
   "source": [
    "# Visualización del resultado\n",
    "# import matplotlib.pyplot as plt\n",
    "fig, ax = plt.subplots(figsize=(10, 10))\n",
    "gdf_san_jose.plot(\n",
    "    column=\"Distrito_Spectral\", cmap=\"tab20\", linewidth=0.2, edgecolor=\"black\", ax=ax\n",
    ")\n",
    "plt.title(\"Partición Espectral del Grafo de Distritos\")\n",
    "plt.axis(\"off\")\n",
    "plt.show()"
   ]
  },
  {
   "cell_type": "code",
   "execution_count": null,
   "id": "759d2f30-1034-452f-a900-252e5545ebf5",
   "metadata": {},
   "outputs": [],
   "source": [
    "# import pandas as pd\n",
    "# import numpy as np\n",
    "from IPython.display import display\n",
    "\n",
    "# Paso 1: Sumar población total por nuevo distrito\n",
    "poblacion_distritos = gdf_san_jose.groupby(\"Distrito_Spectral\")[\"Total\"].sum()\n",
    "\n",
    "# Paso 2: Calcular población ideal (promedio)\n",
    "poblacion_total = poblacion_distritos.sum()\n",
    "num_distritos = poblacion_distritos.size\n",
    "poblacion_ideal = poblacion_total / num_distritos\n",
    "\n",
    "# Paso 3: Calcular desviación absoluta y relativa\n",
    "desviaciones = pd.DataFrame(\n",
    "    {\n",
    "        \"Poblacion\": poblacion_distritos,\n",
    "        \"Desviacion_Absoluta\": poblacion_distritos - poblacion_ideal,\n",
    "        \"Desviacion_Relativa_%\": 100\n",
    "        * (poblacion_distritos - poblacion_ideal)\n",
    "        / poblacion_ideal,\n",
    "    }\n",
    ")\n",
    "\n",
    "# Paso 4: Métricas agregadas\n",
    "desviacion_max = desviaciones[\"Desviacion_Relativa_%\"].abs().max()\n",
    "std_dev = desviaciones[\"Desviacion_Relativa_%\"].std()\n",
    "cv = std_dev / 100  # Coeficiente de variación (en proporción)\n",
    "\n",
    "# Mostrar tabla\n",
    "display(desviaciones)\n",
    "\n",
    "# Mostrar métricas agregadas\n",
    "print(f\"Población total: {poblacion_total}\")\n",
    "print(f\"Población ideal por distrito: {poblacion_ideal:.2f}\")\n",
    "print(f\"Desviación máxima relativa: {desviacion_max:.2f}%\")\n",
    "print(f\"Desviación estándar relativa: {std_dev:.2f}%\")\n",
    "print(f\"Coeficiente de variación: {cv:.4f}\")"
   ]
  },
  {
   "cell_type": "code",
   "execution_count": null,
   "id": "0121fce6-63fc-493b-91ce-7286aa6bdbf9",
   "metadata": {},
   "outputs": [],
   "source": []
  }
 ],
 "metadata": {
  "kernelspec": {
   "display_name": ".venv",
   "language": "python",
   "name": "python3"
  },
  "language_info": {
   "codemirror_mode": {
    "name": "ipython",
    "version": 3
   },
   "file_extension": ".py",
   "mimetype": "text/x-python",
   "name": "python",
   "nbconvert_exporter": "python",
   "pygments_lexer": "ipython3",
   "version": "3.12.3"
  }
 },
 "nbformat": 4,
 "nbformat_minor": 5
}
